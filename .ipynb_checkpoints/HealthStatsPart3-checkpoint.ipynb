{
 "cells": [
  {
   "cell_type": "markdown",
   "metadata": {},
   "source": [
    "# Health Stats Part 2: Waist 2 Hip Ratios"
   ]
  },
  {
   "cell_type": "markdown",
   "metadata": {},
   "source": [
    "<!--- Write an explanation of the Waist To Hips Ratio statistic used by health professionals. Please include an explanation of what it is used for, exactly how it is calculated, and how to interpret the results. Note: Formmatting matters. Make this as professional as you can using Markdown.  --->\n",
    "EDIT THIS MARKDOWN CELL"
   ]
  },
  {
   "cell_type": "markdown",
   "metadata": {},
   "source": [
    "## Source Data "
   ]
  },
  {
   "cell_type": "markdown",
   "metadata": {},
   "source": [
    "<!--- Replace the text below with a Markdown bullet list that defines the columns of the CSV file. Be sure to indicate the data type for each column. --->\n",
    "EDIT THIS MARKDOWN CELL"
   ]
  },
  {
   "cell_type": "markdown",
   "metadata": {},
   "source": [
    "## Data Import"
   ]
  },
  {
   "cell_type": "code",
   "execution_count": 57,
   "metadata": {},
   "outputs": [],
   "source": [
    "# Goal: Extract the data from the file\n",
    "# Import numPy \n",
    "import numpy as np\n",
    "\n",
    "# opens the w2h_data.csv for reading\n",
    "f = open(\"w2h_data.csv\")\n",
    "\n",
    "# loads the file into a numpy array\n",
    "# Made a second array to handle txt columns\n",
    "rows = np.genfromtxt(\"w2h_data.csv\", dtype=float, delimiter=\",\",skip_header=1, usecols=(0,1,2))\n",
    "rows_str = np.genfromtxt(\"w2h_data.csv\", dtype=str,delimiter=\",\",skip_header=1, usecols=(3))\n",
    "\n",
    "# closes the file\n",
    "f.close()"
   ]
  },
  {
   "cell_type": "markdown",
   "metadata": {},
   "source": [
    "## Calculations"
   ]
  },
  {
   "cell_type": "code",
   "execution_count": 78,
   "metadata": {},
   "outputs": [
    {
     "name": "stdout",
     "output_type": "stream",
     "text": [
      "[['1.0' '30.0' '32.0' 'M' '0.9375' 'Apple']\n",
      " ['2.0' '32.0' '37.0' 'M' '0.8648648648648649' 'Pear']\n",
      " ['3.0' '30.0' '36.0' 'M' '0.8333333333333334' 'Pear']\n",
      " ['4.0' '33.0' '39.0' 'M' '0.8461538461538461' 'Pear']\n",
      " ['5.0' '29.0' '33.0' 'M' '0.8787878787878788' 'Pear']\n",
      " ['6.0' '32.0' '38.0' 'M' '0.8421052631578947' 'Pear']\n",
      " ['7.0' '33.0' '42.0' 'M' '0.7857142857142857' 'Pear']\n",
      " ['8.0' '30.0' '40.0' 'M' '0.75' 'Pear']\n",
      " ['9.0' '30.0' '37.0' 'M' '0.8108108108108109' 'Pear']\n",
      " ['10.0' '32.0' '39.0' 'M' '0.8205128205128205' 'Pear']\n",
      " ['11.0' '24.0' '35.0' 'F' '0.6857142857142857' 'Pear']\n",
      " ['12.0' '25.0' '37.0' 'F' '0.6756756756756757' 'Pear']\n",
      " ['13.0' '24.0' '37.0' 'F' '0.6486486486486487' 'Pear']\n",
      " ['14.0' '22.0' '34.0' 'F' '0.6470588235294118' 'Pear']\n",
      " ['15.0' '26.0' '38.0' 'F' '0.6842105263157895' 'Pear']\n",
      " ['16.0' '26.0' '37.0' 'F' '0.7027027027027027' 'Pear']\n",
      " ['17.0' '25.0' '38.0' 'F' '0.6578947368421053' 'Pear']\n",
      " ['18.0' '26.0' '37.0' 'F' '0.7027027027027027' 'Pear']\n",
      " ['19.0' '28.0' '40.0' 'F' '0.7' 'Pear']\n",
      " ['20.0' '23.0' '35.0' 'F' '0.6571428571428571' 'Pear']]\n"
     ]
    }
   ],
   "source": [
    "# Goal: For each row of data calculate and store the w2h_ratio and shape.\n",
    "# Calcualte ratio\n",
    "wh_ratio = rows[:, 1] / rows[:, 2]\n",
    "new_rows = np.hstack([rows, rows_str[:,np.newaxis], wh_ratio[:,np.newaxis]])\n",
    "\n",
    "# find which males are apples\n",
    "male_apples = np.logical_and(wh_ratio > 0.9, new_rows[:,3] == \"M\")\n",
    "# find which females are apples\n",
    "female_apples = np.logical_and(wh_ratio > 0.8, new_rows[:,3] == \"F\")\n",
    "# save all the apples into one array\n",
    "apple = np.logical_or(male_apples,female_apples)\n",
    "# creates an array with all the shapes we need\n",
    "shapes = np.where(apple,\"Apple\",\"Pear\")\n",
    "\n",
    "# Creates an array that has the new data\n",
    "#new_rows = np.hstack([rows,rows_str[:,np.newaxis], wh_ratio[:,np.newaxis]])\n",
    "#the np.newaxis jargon makes a flat array (n,) into a matrix (n,m)\n",
    "#new_rows = np.hstack([rows,rows_str[:,np.newaxis], wh_ratio[:,np.newaxis]])\n",
    "#print(new_rows)\n",
    "# Results of data printed together...forgot headers\n",
    "results = np.hstack([rows, rows_str[:,np.newaxis], wh_ratio[:,np.newaxis], shapes[:,np.newaxis]])\n",
    "\n",
    "# Trying different things...\n",
    "#headers =np.genfromtxt( 'ID',\"Waist\",\"Hip\",\"Gender\",\"W2H Ratio\",\"Shape\" )\n",
    "#data_headers = np.zeros(shape=(21,6))\n",
    "#data_headers = headers, results\n",
    "#print(data_headers)\n",
    "#new_data[:,:5] = new_rows\n",
    "#item = new_rows.astype('object')\n",
    "#item[new_rows[:,3] > .9, 5] = \"apples\"\n"
   ]
  },
  {
   "cell_type": "markdown",
   "metadata": {},
   "source": [
    "## Output"
   ]
  },
  {
   "cell_type": "code",
   "execution_count": 66,
   "metadata": {},
   "outputs": [
    {
     "data": {
      "text/html": [
       "<table><tr><th>s</th><th>t</th><th>r</th><th>1</th><th>0</th><th>2</th><th>4</th></tr><tr><td>[  1.  30.  32.]</td><td>[  2.  32.  37.]</td><td>[  3.  30.  36.]</td><td>[  4.  33.  39.]</td><td>[  5.  29.  33.]</td><td>[  6.  32.  38.]</td><td>[  7.  33.  42.]</td><td>[  8.  30.  40.]</td><td>[  9.  30.  37.]</td><td>[ 10.  32.  39.]</td><td>[ 11.  24.  35.]</td><td>[ 12.  25.  37.]</td><td>[ 13.  24.  37.]</td><td>[ 14.  22.  34.]</td><td>[ 15.  26.  38.]</td><td>[ 16.  26.  37.]</td><td>[ 17.  25.  38.]</td><td>[ 18.  26.  37.]</td><td>[ 19.  28.  40.]</td><td>[ 20.  23.  35.]</td></tr><tr><td>[  1.  30.  32.]</td><td>[  2.  32.  37.]</td><td>[  3.  30.  36.]</td><td>[  4.  33.  39.]</td><td>[  5.  29.  33.]</td><td>[  6.  32.  38.]</td><td>[  7.  33.  42.]</td><td>[  8.  30.  40.]</td><td>[  9.  30.  37.]</td><td>[ 10.  32.  39.]</td><td>[ 11.  24.  35.]</td><td>[ 12.  25.  37.]</td><td>[ 13.  24.  37.]</td><td>[ 14.  22.  34.]</td><td>[ 15.  26.  38.]</td><td>[ 16.  26.  37.]</td><td>[ 17.  25.  38.]</td><td>[ 18.  26.  37.]</td><td>[ 19.  28.  40.]</td><td>[ 20.  23.  35.]</td></tr><tr><td>[  1.  30.  32.]</td><td>[  2.  32.  37.]</td><td>[  3.  30.  36.]</td><td>[  4.  33.  39.]</td><td>[  5.  29.  33.]</td><td>[  6.  32.  38.]</td><td>[  7.  33.  42.]</td><td>[  8.  30.  40.]</td><td>[  9.  30.  37.]</td><td>[ 10.  32.  39.]</td><td>[ 11.  24.  35.]</td><td>[ 12.  25.  37.]</td><td>[ 13.  24.  37.]</td><td>[ 14.  22.  34.]</td><td>[ 15.  26.  38.]</td><td>[ 16.  26.  37.]</td><td>[ 17.  25.  38.]</td><td>[ 18.  26.  37.]</td><td>[ 19.  28.  40.]</td><td>[ 20.  23.  35.]</td></tr><tr><td>[  1.  30.  32.]</td><td>[  2.  32.  37.]</td><td>[  3.  30.  36.]</td><td>[  4.  33.  39.]</td><td>[  5.  29.  33.]</td><td>[  6.  32.  38.]</td><td>[  7.  33.  42.]</td><td>[  8.  30.  40.]</td><td>[  9.  30.  37.]</td><td>[ 10.  32.  39.]</td><td>[ 11.  24.  35.]</td><td>[ 12.  25.  37.]</td><td>[ 13.  24.  37.]</td><td>[ 14.  22.  34.]</td><td>[ 15.  26.  38.]</td><td>[ 16.  26.  37.]</td><td>[ 17.  25.  38.]</td><td>[ 18.  26.  37.]</td><td>[ 19.  28.  40.]</td><td>[ 20.  23.  35.]</td></tr><tr><td>[  1.  30.  32.]</td><td>[  2.  32.  37.]</td><td>[  3.  30.  36.]</td><td>[  4.  33.  39.]</td><td>[  5.  29.  33.]</td><td>[  6.  32.  38.]</td><td>[  7.  33.  42.]</td><td>[  8.  30.  40.]</td><td>[  9.  30.  37.]</td><td>[ 10.  32.  39.]</td><td>[ 11.  24.  35.]</td><td>[ 12.  25.  37.]</td><td>[ 13.  24.  37.]</td><td>[ 14.  22.  34.]</td><td>[ 15.  26.  38.]</td><td>[ 16.  26.  37.]</td><td>[ 17.  25.  38.]</td><td>[ 18.  26.  37.]</td><td>[ 19.  28.  40.]</td><td>[ 20.  23.  35.]</td></tr><tr><td>[  1.  30.  32.]</td><td>[  2.  32.  37.]</td><td>[  3.  30.  36.]</td><td>[  4.  33.  39.]</td><td>[  5.  29.  33.]</td><td>[  6.  32.  38.]</td><td>[  7.  33.  42.]</td><td>[  8.  30.  40.]</td><td>[  9.  30.  37.]</td><td>[ 10.  32.  39.]</td><td>[ 11.  24.  35.]</td><td>[ 12.  25.  37.]</td><td>[ 13.  24.  37.]</td><td>[ 14.  22.  34.]</td><td>[ 15.  26.  38.]</td><td>[ 16.  26.  37.]</td><td>[ 17.  25.  38.]</td><td>[ 18.  26.  37.]</td><td>[ 19.  28.  40.]</td><td>[ 20.  23.  35.]</td></tr><tr><td>[  1.  30.  32.]</td><td>[  2.  32.  37.]</td><td>[  3.  30.  36.]</td><td>[  4.  33.  39.]</td><td>[  5.  29.  33.]</td><td>[  6.  32.  38.]</td><td>[  7.  33.  42.]</td><td>[  8.  30.  40.]</td><td>[  9.  30.  37.]</td><td>[ 10.  32.  39.]</td><td>[ 11.  24.  35.]</td><td>[ 12.  25.  37.]</td><td>[ 13.  24.  37.]</td><td>[ 14.  22.  34.]</td><td>[ 15.  26.  38.]</td><td>[ 16.  26.  37.]</td><td>[ 17.  25.  38.]</td><td>[ 18.  26.  37.]</td><td>[ 19.  28.  40.]</td><td>[ 20.  23.  35.]</td></tr><tr><td>[  1.  30.  32.]</td><td>[  2.  32.  37.]</td><td>[  3.  30.  36.]</td><td>[  4.  33.  39.]</td><td>[  5.  29.  33.]</td><td>[  6.  32.  38.]</td><td>[  7.  33.  42.]</td><td>[  8.  30.  40.]</td><td>[  9.  30.  37.]</td><td>[ 10.  32.  39.]</td><td>[ 11.  24.  35.]</td><td>[ 12.  25.  37.]</td><td>[ 13.  24.  37.]</td><td>[ 14.  22.  34.]</td><td>[ 15.  26.  38.]</td><td>[ 16.  26.  37.]</td><td>[ 17.  25.  38.]</td><td>[ 18.  26.  37.]</td><td>[ 19.  28.  40.]</td><td>[ 20.  23.  35.]</td></tr><tr><td>[  1.  30.  32.]</td><td>[  2.  32.  37.]</td><td>[  3.  30.  36.]</td><td>[  4.  33.  39.]</td><td>[  5.  29.  33.]</td><td>[  6.  32.  38.]</td><td>[  7.  33.  42.]</td><td>[  8.  30.  40.]</td><td>[  9.  30.  37.]</td><td>[ 10.  32.  39.]</td><td>[ 11.  24.  35.]</td><td>[ 12.  25.  37.]</td><td>[ 13.  24.  37.]</td><td>[ 14.  22.  34.]</td><td>[ 15.  26.  38.]</td><td>[ 16.  26.  37.]</td><td>[ 17.  25.  38.]</td><td>[ 18.  26.  37.]</td><td>[ 19.  28.  40.]</td><td>[ 20.  23.  35.]</td></tr><tr><td>[  1.  30.  32.]</td><td>[  2.  32.  37.]</td><td>[  3.  30.  36.]</td><td>[  4.  33.  39.]</td><td>[  5.  29.  33.]</td><td>[  6.  32.  38.]</td><td>[  7.  33.  42.]</td><td>[  8.  30.  40.]</td><td>[  9.  30.  37.]</td><td>[ 10.  32.  39.]</td><td>[ 11.  24.  35.]</td><td>[ 12.  25.  37.]</td><td>[ 13.  24.  37.]</td><td>[ 14.  22.  34.]</td><td>[ 15.  26.  38.]</td><td>[ 16.  26.  37.]</td><td>[ 17.  25.  38.]</td><td>[ 18.  26.  37.]</td><td>[ 19.  28.  40.]</td><td>[ 20.  23.  35.]</td></tr><tr><td>[  1.  30.  32.]</td><td>[  2.  32.  37.]</td><td>[  3.  30.  36.]</td><td>[  4.  33.  39.]</td><td>[  5.  29.  33.]</td><td>[  6.  32.  38.]</td><td>[  7.  33.  42.]</td><td>[  8.  30.  40.]</td><td>[  9.  30.  37.]</td><td>[ 10.  32.  39.]</td><td>[ 11.  24.  35.]</td><td>[ 12.  25.  37.]</td><td>[ 13.  24.  37.]</td><td>[ 14.  22.  34.]</td><td>[ 15.  26.  38.]</td><td>[ 16.  26.  37.]</td><td>[ 17.  25.  38.]</td><td>[ 18.  26.  37.]</td><td>[ 19.  28.  40.]</td><td>[ 20.  23.  35.]</td></tr><tr><td>[  1.  30.  32.]</td><td>[  2.  32.  37.]</td><td>[  3.  30.  36.]</td><td>[  4.  33.  39.]</td><td>[  5.  29.  33.]</td><td>[  6.  32.  38.]</td><td>[  7.  33.  42.]</td><td>[  8.  30.  40.]</td><td>[  9.  30.  37.]</td><td>[ 10.  32.  39.]</td><td>[ 11.  24.  35.]</td><td>[ 12.  25.  37.]</td><td>[ 13.  24.  37.]</td><td>[ 14.  22.  34.]</td><td>[ 15.  26.  38.]</td><td>[ 16.  26.  37.]</td><td>[ 17.  25.  38.]</td><td>[ 18.  26.  37.]</td><td>[ 19.  28.  40.]</td><td>[ 20.  23.  35.]</td></tr><tr><td>[  1.  30.  32.]</td><td>[  2.  32.  37.]</td><td>[  3.  30.  36.]</td><td>[  4.  33.  39.]</td><td>[  5.  29.  33.]</td><td>[  6.  32.  38.]</td><td>[  7.  33.  42.]</td><td>[  8.  30.  40.]</td><td>[  9.  30.  37.]</td><td>[ 10.  32.  39.]</td><td>[ 11.  24.  35.]</td><td>[ 12.  25.  37.]</td><td>[ 13.  24.  37.]</td><td>[ 14.  22.  34.]</td><td>[ 15.  26.  38.]</td><td>[ 16.  26.  37.]</td><td>[ 17.  25.  38.]</td><td>[ 18.  26.  37.]</td><td>[ 19.  28.  40.]</td><td>[ 20.  23.  35.]</td></tr><tr><td>[  1.  30.  32.]</td><td>[  2.  32.  37.]</td><td>[  3.  30.  36.]</td><td>[  4.  33.  39.]</td><td>[  5.  29.  33.]</td><td>[  6.  32.  38.]</td><td>[  7.  33.  42.]</td><td>[  8.  30.  40.]</td><td>[  9.  30.  37.]</td><td>[ 10.  32.  39.]</td><td>[ 11.  24.  35.]</td><td>[ 12.  25.  37.]</td><td>[ 13.  24.  37.]</td><td>[ 14.  22.  34.]</td><td>[ 15.  26.  38.]</td><td>[ 16.  26.  37.]</td><td>[ 17.  25.  38.]</td><td>[ 18.  26.  37.]</td><td>[ 19.  28.  40.]</td><td>[ 20.  23.  35.]</td></tr><tr><td>[  1.  30.  32.]</td><td>[  2.  32.  37.]</td><td>[  3.  30.  36.]</td><td>[  4.  33.  39.]</td><td>[  5.  29.  33.]</td><td>[  6.  32.  38.]</td><td>[  7.  33.  42.]</td><td>[  8.  30.  40.]</td><td>[  9.  30.  37.]</td><td>[ 10.  32.  39.]</td><td>[ 11.  24.  35.]</td><td>[ 12.  25.  37.]</td><td>[ 13.  24.  37.]</td><td>[ 14.  22.  34.]</td><td>[ 15.  26.  38.]</td><td>[ 16.  26.  37.]</td><td>[ 17.  25.  38.]</td><td>[ 18.  26.  37.]</td><td>[ 19.  28.  40.]</td><td>[ 20.  23.  35.]</td></tr><tr><td>[  1.  30.  32.]</td><td>[  2.  32.  37.]</td><td>[  3.  30.  36.]</td><td>[  4.  33.  39.]</td><td>[  5.  29.  33.]</td><td>[  6.  32.  38.]</td><td>[  7.  33.  42.]</td><td>[  8.  30.  40.]</td><td>[  9.  30.  37.]</td><td>[ 10.  32.  39.]</td><td>[ 11.  24.  35.]</td><td>[ 12.  25.  37.]</td><td>[ 13.  24.  37.]</td><td>[ 14.  22.  34.]</td><td>[ 15.  26.  38.]</td><td>[ 16.  26.  37.]</td><td>[ 17.  25.  38.]</td><td>[ 18.  26.  37.]</td><td>[ 19.  28.  40.]</td><td>[ 20.  23.  35.]</td></tr><tr><td>[  1.  30.  32.]</td><td>[  2.  32.  37.]</td><td>[  3.  30.  36.]</td><td>[  4.  33.  39.]</td><td>[  5.  29.  33.]</td><td>[  6.  32.  38.]</td><td>[  7.  33.  42.]</td><td>[  8.  30.  40.]</td><td>[  9.  30.  37.]</td><td>[ 10.  32.  39.]</td><td>[ 11.  24.  35.]</td><td>[ 12.  25.  37.]</td><td>[ 13.  24.  37.]</td><td>[ 14.  22.  34.]</td><td>[ 15.  26.  38.]</td><td>[ 16.  26.  37.]</td><td>[ 17.  25.  38.]</td><td>[ 18.  26.  37.]</td><td>[ 19.  28.  40.]</td><td>[ 20.  23.  35.]</td></tr><tr><td>[  1.  30.  32.]</td><td>[  2.  32.  37.]</td><td>[  3.  30.  36.]</td><td>[  4.  33.  39.]</td><td>[  5.  29.  33.]</td><td>[  6.  32.  38.]</td><td>[  7.  33.  42.]</td><td>[  8.  30.  40.]</td><td>[  9.  30.  37.]</td><td>[ 10.  32.  39.]</td><td>[ 11.  24.  35.]</td><td>[ 12.  25.  37.]</td><td>[ 13.  24.  37.]</td><td>[ 14.  22.  34.]</td><td>[ 15.  26.  38.]</td><td>[ 16.  26.  37.]</td><td>[ 17.  25.  38.]</td><td>[ 18.  26.  37.]</td><td>[ 19.  28.  40.]</td><td>[ 20.  23.  35.]</td></tr><tr><td>[  1.  30.  32.]</td><td>[  2.  32.  37.]</td><td>[  3.  30.  36.]</td><td>[  4.  33.  39.]</td><td>[  5.  29.  33.]</td><td>[  6.  32.  38.]</td><td>[  7.  33.  42.]</td><td>[  8.  30.  40.]</td><td>[  9.  30.  37.]</td><td>[ 10.  32.  39.]</td><td>[ 11.  24.  35.]</td><td>[ 12.  25.  37.]</td><td>[ 13.  24.  37.]</td><td>[ 14.  22.  34.]</td><td>[ 15.  26.  38.]</td><td>[ 16.  26.  37.]</td><td>[ 17.  25.  38.]</td><td>[ 18.  26.  37.]</td><td>[ 19.  28.  40.]</td><td>[ 20.  23.  35.]</td></tr><tr><td>[  1.  30.  32.]</td><td>[  2.  32.  37.]</td><td>[  3.  30.  36.]</td><td>[  4.  33.  39.]</td><td>[  5.  29.  33.]</td><td>[  6.  32.  38.]</td><td>[  7.  33.  42.]</td><td>[  8.  30.  40.]</td><td>[  9.  30.  37.]</td><td>[ 10.  32.  39.]</td><td>[ 11.  24.  35.]</td><td>[ 12.  25.  37.]</td><td>[ 13.  24.  37.]</td><td>[ 14.  22.  34.]</td><td>[ 15.  26.  38.]</td><td>[ 16.  26.  37.]</td><td>[ 17.  25.  38.]</td><td>[ 18.  26.  37.]</td><td>[ 19.  28.  40.]</td><td>[ 20.  23.  35.]</td></tr></table>"
      ],
      "text/plain": [
       "<IPython.core.display.HTML object>"
      ]
     },
     "metadata": {},
     "output_type": "display_data"
    },
    {
     "ename": "TypeError",
     "evalue": "can only join an iterable",
     "output_type": "error",
     "traceback": [
      "\u001b[1;31m---------------------------------------------------------------------------\u001b[0m",
      "\u001b[1;31mTypeError\u001b[0m                                 Traceback (most recent call last)",
      "\u001b[1;32m<ipython-input-66-a62495b22a87>\u001b[0m in \u001b[0;36m<module>\u001b[1;34m()\u001b[0m\n\u001b[0;32m     14\u001b[0m \u001b[0mdisplay\u001b[0m\u001b[1;33m(\u001b[0m\u001b[0mHTML\u001b[0m\u001b[1;33m(\u001b[0m\u001b[0mhtml_table\u001b[0m\u001b[1;33m)\u001b[0m\u001b[1;33m)\u001b[0m\u001b[1;33m\u001b[0m\u001b[0m\n\u001b[0;32m     15\u001b[0m \u001b[1;33m\u001b[0m\u001b[0m\n\u001b[1;32m---> 16\u001b[1;33m \u001b[0mnp\u001b[0m\u001b[1;33m.\u001b[0m\u001b[0msavetxt\u001b[0m\u001b[1;33m(\u001b[0m\u001b[1;34m\"StatsResults.csv\"\u001b[0m\u001b[1;33m,\u001b[0m\u001b[0mresults\u001b[0m\u001b[1;33m,\u001b[0m\u001b[0mfmt\u001b[0m\u001b[1;33m=\u001b[0m\u001b[1;34m'%s'\u001b[0m\u001b[1;33m,\u001b[0m\u001b[0mdelimiter\u001b[0m\u001b[1;33m=\u001b[0m\u001b[1;34m','\u001b[0m\u001b[1;33m,\u001b[0m\u001b[0mheader\u001b[0m\u001b[1;33m=\u001b[0m\u001b[1;34m','\u001b[0m\u001b[1;33m.\u001b[0m\u001b[0mjoin\u001b[0m\u001b[1;33m(\u001b[0m\u001b[0mresults\u001b[0m\u001b[1;33m.\u001b[0m\u001b[0mdtype\u001b[0m\u001b[1;33m.\u001b[0m\u001b[0mnames\u001b[0m\u001b[1;33m)\u001b[0m\u001b[1;33m,\u001b[0m\u001b[0mcomments\u001b[0m\u001b[1;33m=\u001b[0m\u001b[1;34m\"\"\u001b[0m\u001b[1;33m)\u001b[0m\u001b[1;33m\u001b[0m\u001b[0m\n\u001b[0m",
      "\u001b[1;31mTypeError\u001b[0m: can only join an iterable"
     ]
    }
   ],
   "source": [
    "# Goal: pretty print the rows as an HTML table\n",
    "\n",
    "# Note: this works, but we can do this much better with pandas\n",
    "html_table = '<table><tr><th>'\n",
    "html_table += \"</th><th>\".join(results.dtype.name)\n",
    "html_table += '</th></tr>'\n",
    "for row in results:\n",
    "    html_table += \"<tr><td>\"\n",
    "    html_table += \"</td><td>\".join(str(v) for v in rows)\n",
    "    html_table += \"</td></tr>\"\n",
    "html_table += \"</table>\"\n",
    "\n",
    "from IPython.display import HTML, display\n",
    "display(HTML(html_table))\n",
    "\n",
    "np.savetxt(\"StatsResults.csv\",results,fmt='%s',delimiter=',',header=','.join(results.dtype.names),comments=\"\")"
   ]
  },
  {
   "cell_type": "code",
   "execution_count": null,
   "metadata": {
    "collapsed": true
   },
   "outputs": [],
   "source": []
  },
  {
   "cell_type": "code",
   "execution_count": null,
   "metadata": {
    "collapsed": true
   },
   "outputs": [],
   "source": []
  }
 ],
 "metadata": {
  "kernelspec": {
   "display_name": "Python 3",
   "language": "python",
   "name": "python3"
  },
  "language_info": {
   "codemirror_mode": {
    "name": "ipython",
    "version": 3
   },
   "file_extension": ".py",
   "mimetype": "text/x-python",
   "name": "python",
   "nbconvert_exporter": "python",
   "pygments_lexer": "ipython3",
   "version": "3.6.1"
  }
 },
 "nbformat": 4,
 "nbformat_minor": 2
}
